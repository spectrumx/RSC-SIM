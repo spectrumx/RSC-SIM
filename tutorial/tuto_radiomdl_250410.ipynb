{
 "cells": [
  {
   "cell_type": "markdown",
   "metadata": {},
   "source": [
    "# Modeling the result of a radio astronomy observation\n",
    "\n",
    "This notebook uses the Python modules to model the resulting power\n",
    "levels seen by a radio telescope - the Westford antenna - when observing an\n",
    "astronomical object such as Cas A."
   ]
  },
  {
   "cell_type": "code",
   "execution_count": null,
   "metadata": {},
   "outputs": [],
   "source": [
    "import sys\n",
    "import os\n",
    "import numpy as np\n",
    "import pandas as pd\n",
    "from datetime import datetime, timedelta\n",
    "import matplotlib.pyplot as plt\n",
    "\n",
    "# Add the parent directory (which contains src/) to the path\n",
    "sys.path.insert(0, os.path.join(os.getcwd(), '..', 'src'))\n",
    "\n",
    "from radio_types import Antenna, Instrument, Observation, Constellation, Trajectory\n",
    "from astro_mdl import (\n",
    "    estim_casA_flux, power_to_temperature, temperature_to_power,\n",
    "    antenna_mdl_ITU, estim_temp\n",
    ")\n",
    "from sat_mdl import sat_link_budget_vectorized\n",
    "from obs_mdl import model_observed_temp\n",
    "import antenna_pattern"
   ]
  },
  {
   "cell_type": "markdown",
   "metadata": {},
   "source": [
    "## Define the instrument used to observe\n",
    "---"
   ]
  },
  {
   "cell_type": "markdown",
   "metadata": {},
   "source": [
    "### The antenna\n",
    "\n",
    "The first step to define the instrument of observation is to define the antenna\n",
    "used. The package has a custom structure `Antenna` that takes as inputs a\n",
    "`DataFrame` structure with columns `alphas`, `betas` and `gains`, containing\n",
    "the gain values and their angle coordinates ($\\alpha$,$\\beta$), the estimated\n",
    "radiation efficiency and the frequency band where the model of antenna defined\n",
    "is valid. $\\alpha\\in[0,180]$ and $\\beta\\in[0,360[$ are defined such that when\n",
    "the antenna is pointing at the horizon, $\\beta=0$ gives a vertical slice of the\n",
    "pattern, with $\\alpha>0$ oriented towards the ground.\n",
    "\n",
    "A path to a `.cut` file defining the power pattern model can be given in place\n",
    "of the `DataFrame` structure to load and format the gain pattern. In that case,\n",
    "it is possible to give the tags of the different columns if other names are\n",
    "present in the table to load."
   ]
  },
  {
   "cell_type": "code",
   "execution_count": null,
   "metadata": {},
   "outputs": [],
   "source": [
    "# radiation efficiency of telescope antenna\n",
    "eta_rad = 0.45\n",
    "\n",
    "# valid frequency band of gain pattern model\n",
    "freq_band = (10e9, 12e9)  # in Hz\n",
    "\n",
    "# Get the directory where this script is located\n",
    "script_dir = os.getcwd()\n",
    "\n",
    "# load telescope antenna\n",
    "file_pattern_path = os.path.join(script_dir, \"data\", \"single_cut_res.cut\")\n",
    "tel_ant = Antenna.from_file(\n",
    "    file_pattern_path,\n",
    "    eta_rad,\n",
    "    freq_band,\n",
    "    power_tag='power',\n",
    "    declination_tag='alpha',\n",
    "    azimuth_tag='beta'\n",
    ")"
   ]
  },
  {
   "cell_type": "markdown",
   "metadata": {},
   "source": [
    "The result is an `Antenna` storing the different information and an interpolated\n",
    "version of the gain pattern."
   ]
  },
  {
   "cell_type": "code",
   "execution_count": null,
   "metadata": {},
   "outputs": [],
   "source": [
    "# plot gain pattern\n",
    "nb_curv = 5  # number of slices to plot\n",
    "alphas, betas = tel_ant.get_def_angles()\n",
    "step_beta_ind = len(betas) // (2 * nb_curv)\n",
    "fig, ax = plt.subplots(subplot_kw={'projection': 'polar'})\n",
    "for i in range(0, len(betas) // 2, step_beta_ind):\n",
    "    a, g = tel_ant.get_slice_gain(betas[i])\n",
    "    ax.plot(np.radians(a), 10 * np.log10(g), label=f\"β = {betas[i]}deg\")\n",
    "ax.legend()\n",
    "plt.show()"
   ]
  },
  {
   "cell_type": "markdown",
   "metadata": {},
   "source": [
    "### The instrument\n",
    "\n",
    "To define the `Instrument` of observation as a structure, we need an `Antenna`\n",
    "structure, as well as other parameters:\n",
    "- the physical temperature of the antenna;\n",
    "- the frequency of observation;\n",
    "- the bandwidth of the instrument;\n",
    "- the receiver temperature as a function of time (`datetime` type) and frequency;\n",
    "It is also possible to specify:\n",
    "- the number of frequency channels to divide the bandwidth of the instrument by\n",
    "  (default is 1);\n",
    "- the coordinates of the instrument as a vector (not used as of now);"
   ]
  },
  {
   "cell_type": "code",
   "execution_count": null,
   "metadata": {},
   "outputs": [],
   "source": [
    "# telescope antenna physical temperature\n",
    "T_phy = 300.0  # in K\n",
    "\n",
    "# frequency of observation\n",
    "cent_freq = 11.325e9  # in Hz\n",
    "\n",
    "# bandwidth of telescope receiver\n",
    "bw = 1e3  # in Hz\n",
    "\n",
    "# number of frequency channels to divide the bandwidth\n",
    "freq_chan = 1\n",
    "\n",
    "# telescope receiver temperature (constant over the bandwidth)\n",
    "def T_RX(tim, freq):\n",
    "    return 80.0  # in K\n",
    "\n",
    "# coordinates of telescope\n",
    "coords = [42.6129479883915, -71.49379366344017, 86.7689687917009]\n",
    "\n",
    "# create instrument\n",
    "westford = Instrument(tel_ant, T_phy, cent_freq, bw, T_RX, freq_chan, coords)"
   ]
  },
  {
   "cell_type": "markdown",
   "metadata": {},
   "source": [
    "## Define the observation plan\n",
    "---\n",
    "\n",
    "The next step is to define the observation plan and conditions."
   ]
  },
  {
   "cell_type": "markdown",
   "metadata": {},
   "source": [
    "### The pointing trajectory during the observation\n",
    "\n",
    "It is possible to load an already computed table of pointing directions. For\n",
    "instance, an `.arrow` file containing the position of Cas A over a window of\n",
    "time. The package defines a `Trajectory` structure that formats a `DataFrame` to\n",
    "be used thereafter.\n",
    "\n",
    "`Trajectory` can receive the path to an `.arrow` or `.csv` file instead of the\n",
    "`DataFrame` to load an existing file. In that case, it is possible to give the\n",
    "tags of the different columns if other names are present in the table to load."
   ]
  },
  {
   "cell_type": "code",
   "execution_count": null,
   "metadata": {},
   "outputs": [],
   "source": [
    "# time window of generated source trajectory\n",
    "start_window = \"2025-04-01T12:30:00.000\"\n",
    "stop_window = \"2025-04-01T13:30:00.000\"\n",
    "\n",
    "# replace colon with underscore\n",
    "start_window_str = start_window.replace(\":\", \"_\")\n",
    "stop_window_str = stop_window.replace(\":\", \"_\")\n",
    "\n",
    "# load telescope antenna\n",
    "file_traj_obj_path = os.path.join(script_dir, \"data\", f\"casA_trajectory_Westford_{start_window_str}_{stop_window_str}.arrow\")\n",
    "\n",
    "print(file_traj_obj_path)\n",
    "\n",
    "# source position over time window\n",
    "traj_src = Trajectory.from_file(\n",
    "    file_traj_obj_path,\n",
    "    time_tag='time_stamps',\n",
    "    elevation_tag='altitudes',\n",
    "    azimuth_tag='azimuths',\n",
    "    distance_tag='distances'\n",
    ")"
   ]
  },
  {
   "cell_type": "markdown",
   "metadata": {},
   "source": [
    "To be more realistic, say the observation lasted 10min, with 5min offset and\n",
    "5min on source, excluding any points that could be below 5deg elevation:"
   ]
  },
  {
   "cell_type": "code",
   "execution_count": null,
   "metadata": {},
   "outputs": [],
   "source": [
    "# start-end of observation\n",
    "dateformat = \"%Y-%m-%dT%H:%M:%S.%f\"\n",
    "start_obs = datetime.strptime(\"2025-04-01T13:10:00.000\", dateformat)\n",
    "stop_obs = datetime.strptime(\"2025-04-01T13:20:00.000\", dateformat)\n",
    "\n",
    "# offset from source at the beginning of the observation\n",
    "offset_angles = (-40, 0.)  # (az,el) in degrees\n",
    "\n",
    "# time of OFF-ON transition\n",
    "time_off_src = start_obs\n",
    "time_on_src = time_off_src + timedelta(minutes=5)\n",
    "\n",
    "# copy trajectory\n",
    "traj_obj = Trajectory(traj_src.traj.copy())\n",
    "\n",
    "# apply offset\n",
    "mask = (traj_obj.traj['times'] >= time_off_src) & (traj_obj.traj['times'] <= time_on_src)\n",
    "traj_obj.traj.loc[mask, 'azimuths'] += offset_angles[0]\n",
    "traj_obj.traj.loc[mask, 'elevations'] += offset_angles[1]\n",
    "\n",
    "# filter points below 5deg elevation\n",
    "filt_el = ('elevations', lambda e: e > 5.)\n",
    "\n",
    "# create observation\n",
    "observ = Observation.from_dates(start_obs, stop_obs, traj_obj, westford, filt_funcs=(filt_el,))\n"
   ]
  },
  {
   "cell_type": "code",
   "execution_count": null,
   "metadata": {},
   "outputs": [],
   "source": [
    "# visualize source and pointing trajectory\n",
    "fig = plt.figure()\n",
    "ax = fig.add_subplot(1, 1, 1, polar=True)\n",
    "src_traj = traj_src.get_traj()\n",
    "obs_traj = observ.get_traj()\n",
    "ax.plot(np.radians(src_traj['azimuths']), 90 - src_traj['elevations'], label=\"source\")\n",
    "ax.plot(np.radians(obs_traj['azimuths']), 90 - obs_traj['elevations'], label=\"pointing\")\n",
    "ax.set_yticks(range(0, 91, 10))\n",
    "ax.set_yticklabels([str(x) for x in range(90, -1, -10)])\n",
    "ax.legend()\n",
    "ax.set_theta_zero_location(\"N\")\n",
    "plt.show()"
   ]
  },
  {
   "cell_type": "markdown",
   "metadata": {},
   "source": [
    "### Sky model\n",
    "\n",
    "Accounting for the sky components is important to have a realistic simulation of\n",
    "the power received.\n",
    "\n",
    "Given the fact that we will point at Cas A for a part of the observation, we\n",
    "need to account for the difference of temperature depending on the pointing position:"
   ]
  },
  {
   "cell_type": "code",
   "execution_count": null,
   "metadata": {},
   "outputs": [],
   "source": [
    "# source flux\n",
    "flux_src = estim_casA_flux(cent_freq)  # in Jy\n",
    "\n",
    "# Pre-calculate effective aperture for performance optimization\n",
    "max_gain = tel_ant.get_boresight_gain()\n",
    "A_eff_max = antenna_pattern.gain_to_effective_aperture(max_gain, cent_freq)\n",
    "\n",
    "# source temperature in K\n",
    "def T_src(t):\n",
    "    if t <= time_on_src:\n",
    "        return 0.0\n",
    "    else:\n",
    "        return estim_temp(flux_src, A_eff_max)"
   ]
  },
  {
   "cell_type": "markdown",
   "metadata": {},
   "source": [
    "Same for the RFI and the background sources that can be modeled as constants as a first approximation:"
   ]
  },
  {
   "cell_type": "code",
   "execution_count": null,
   "metadata": {},
   "outputs": [],
   "source": [
    "# ground temperature in K\n",
    "T_gnd = 0  # no constant RFI\n",
    "\n",
    "# various RFI\n",
    "T_var = 0  # in K (no RFI)\n",
    "\n",
    "# total RFI temperature\n",
    "T_rfi = T_gnd + T_var\n",
    "\n",
    "# CMB temperature\n",
    "T_CMB = 2.73  # in K\n",
    "\n",
    "# galaxy temperature\n",
    "def T_gal(freq): return 1e-1 * (freq/1.41e9)**(-2.7)  # in K\n",
    "\n",
    "# background\n",
    "def T_bkg(freq): return T_CMB + T_gal(freq)"
   ]
  },
  {
   "cell_type": "markdown",
   "metadata": {},
   "source": [
    "The atmosphere is also important to account for:"
   ]
  },
  {
   "cell_type": "code",
   "execution_count": null,
   "metadata": {},
   "outputs": [],
   "source": [
    "# atmospheric temperature at zenith\n",
    "T_atm_zenith = 150  # in K\n",
    "\n",
    "# opacity of atmosphere at zenith\n",
    "tau = 0.05\n",
    "\n",
    "# atmospheric temperature model\n",
    "def T_atm(dec): return T_atm_zenith * (1 - np.exp(-tau/np.cos(dec)))  # in K"
   ]
  },
  {
   "cell_type": "markdown",
   "metadata": {},
   "source": [
    "Adding up all of these sources gives:"
   ]
  },
  {
   "cell_type": "code",
   "execution_count": null,
   "metadata": {},
   "outputs": [],
   "source": [
    "# Total sky model in K\n",
    "def sky_mdl(dec, caz, tim, freq):\n",
    "    return T_src(tim) + T_atm(dec) + T_rfi + T_bkg(freq)"
   ]
  },
  {
   "cell_type": "code",
   "execution_count": null,
   "metadata": {},
   "outputs": [],
   "source": [
    "# plot of sky model without source\n",
    "azimuth_grid = np.arange(0, 361, 5)\n",
    "elevation_grid = np.arange(0, 91, 1)\n",
    "az_grid, el_grid = np.meshgrid(azimuth_grid, elevation_grid)\n",
    "sky_temp = np.vectorize(lambda el, az: sky_mdl(np.radians(90-el), -np.radians(az), start_obs, cent_freq))(el_grid, az_grid)\n",
    "fig = plt.figure(figsize=(10,10))\n",
    "ax = fig.add_subplot(1, 1, 1, polar=True)\n",
    "pc = ax.pcolormesh(np.radians(azimuth_grid), 90-elevation_grid, sky_temp, cmap=\"plasma\")\n",
    "cbar = plt.colorbar(pc)\n",
    "cbar.set_label(\"Temperature [K]\")\n",
    "ax.set_yticks(range(0, 91, 10))\n",
    "ax.set_yticklabels([str(x) for x in range(90, -1, -10)])\n",
    "ax.set_theta_zero_location(\"N\")\n",
    "plt.show()"
   ]
  },
  {
   "cell_type": "markdown",
   "metadata": {},
   "source": [
    "## Satellite constellations\n",
    "--- \n",
    "The package also defines a structure `Constellation` to account for aggregated\n",
    "power from satellites."
   ]
  },
  {
   "cell_type": "markdown",
   "metadata": {},
   "source": [
    "### Antenna model\n",
    "\n",
    "The first step is to define the antenna model for the type of satellites in the\n",
    "constellation, as for instance the ITU recommended gain model.\n",
    "\n",
    "Note that in the following, the satellites coordinate frame is supposed to be\n",
    "following (North, East, Nadir)."
   ]
  },
  {
   "cell_type": "code",
   "execution_count": null,
   "metadata": {},
   "outputs": [],
   "source": [
    "# radiation efficiency of telescope antenna\n",
    "sat_eta_rad = 0.5  # FIXME: check value\n",
    "\n",
    "# maximum gain of satellite antenna\n",
    "sat_gain_max = 39.3  # in dBi FIXME: check value in dBi\n",
    "\n",
    "# create ITU recommended gain profile\n",
    "# satellite boresight half beamwidth\n",
    "half_beamwidth = 3.0  # in deg FIXME: check value\n",
    "# declination angles alpha\n",
    "alphas = np.arange(0, 181)\n",
    "# azimuth angles beta\n",
    "betas = np.arange(0, 351, 10)\n",
    "# create gain dataframe\n",
    "gain_pat = antenna_mdl_ITU(sat_gain_max, half_beamwidth, alphas, betas)\n",
    "\n",
    "# create satellite antenna\n",
    "sat_ant = Antenna.from_dataframe(gain_pat, sat_eta_rad, freq_band)"
   ]
  },
  {
   "cell_type": "code",
   "execution_count": null,
   "metadata": {},
   "outputs": [],
   "source": [
    "# plot gain pattern\n",
    "nb_curv = 5  # number of slices to plot\n",
    "alphas, betas = sat_ant.get_def_angles()\n",
    "step_beta_ind = len(betas) // (2 * nb_curv)\n",
    "fig, ax = plt.subplots(subplot_kw={'projection': 'polar'})\n",
    "for i in range(0, len(betas) // 2, step_beta_ind):\n",
    "    a, g = sat_ant.get_slice_gain(betas[i])\n",
    "    ax.plot(np.radians(a), 10 * np.log10(g), label=f\"β = {betas[i]}deg\")\n",
    "ax.legend()\n",
    "plt.show()"
   ]
  },
  {
   "cell_type": "markdown",
   "metadata": {},
   "source": [
    "### Transmitter parameters\n",
    "\n",
    "The satellites are transmitting information and can be defined as an\n",
    "`Instrument` structure:"
   ]
  },
  {
   "cell_type": "code",
   "execution_count": null,
   "metadata": {},
   "outputs": [],
   "source": [
    "# telescope antenna physical temperature\n",
    "sat_T_phy = 0.0  # in K\n",
    "\n",
    "# frequency of transmission\n",
    "sat_freq = 11.325e9  # in Hz\n",
    "\n",
    "# satellite transmission bandwidth\n",
    "sat_bw = 250e6  # in Hz\n",
    "\n",
    "# satellite effective isotropically radiated power\n",
    "transmit_pow = -15 + 10 * np.log10(300)  # in dBW FIXME: check value\n",
    "def transmit_temp(tim, freq):\n",
    "    return power_to_temperature(10**(transmit_pow/10), 1.0)  # in K\n",
    "\n",
    "# create transmitter instrument\n",
    "sat_transmit = Instrument(sat_ant, sat_T_phy, sat_freq, sat_bw, transmit_temp, 1, [])"
   ]
  },
  {
   "cell_type": "markdown",
   "metadata": {},
   "source": [
    "### Constellation\n",
    "\n",
    "Taking a pre-generated file containing the trajectory of each satellite at each\n",
    "time samples of the observation. The `Constellation` structure takes as input\n",
    "the path to this file, the `Observation` structure and the `Instrument` with which\n",
    "the satellites are transmitting.\n",
    "\n",
    "The structure can take the tags of the columns of the table and additional\n",
    "filters:"
   ]
  },
  {
   "cell_type": "code",
   "execution_count": null,
   "metadata": {},
   "outputs": [],
   "source": [
    "# filter the satellites\n",
    "filt_name = ('sat', lambda s: ~s.str.contains('DTC'))\n",
    "filt_el = ('elevations', lambda e: e > 20)\n",
    "\n",
    "def lnk_bdgt(*args, **kwargs):\n",
    "    # \"Catch\" the unexpected argument and remove it from the dictionary.\n",
    "    # The second argument to pop (e.g., None) is a default value if 'beam_avoid' isn't present.\n",
    "    beam_avoid_angle = kwargs.pop('beam_avoid', None)\n",
    "\n",
    "    # Now you can use the value of beam_avoid_angle for any custom logic\n",
    "    # within this wrapper function if you need to.\n",
    "    if beam_avoid_angle is not None:\n",
    "        # For example: print(f\"Beam avoidance angle is {beam_avoid_angle} degrees.\")\n",
    "        # Or you could modify one of the *args based on this value before passing them on.\n",
    "        pass\n",
    "\n",
    "    # Call the base function with only the arguments it actually expects.\n",
    "    # `kwargs` no longer contains the 'beam_avoid' key.\n",
    "    return sat_link_budget_vectorized(*args, **kwargs)\n",
    "\n",
    "# satellites trajectories during the observation\n",
    "file_traj_sats_path = os.path.join(script_dir, \"data\", f\"Starlink_trajectory_Westford_{start_window_str}_{stop_window_str}.arrow\")\n",
    "\n",
    "starlink_constellation = Constellation.from_file(\n",
    "    file_traj_sats_path, observ, sat_transmit, lnk_bdgt,\n",
    "    name_tag='sat',\n",
    "    time_tag='timestamp',\n",
    "    elevation_tag='elevations',\n",
    "    azimuth_tag='azimuths',\n",
    "    distance_tag='ranges_westford',\n",
    "    filt_funcs=(filt_name, filt_el)\n",
    ")"
   ]
  },
  {
   "cell_type": "code",
   "execution_count": null,
   "metadata": {},
   "outputs": [],
   "source": [
    "# plot satellites trajectory\n",
    "list_sats = starlink_constellation.get_sats_name()\n",
    "\n",
    "sel_sats = list_sats[:len(list_sats)]\n",
    "\n",
    "for s in sel_sats:\n",
    "    sat = starlink_constellation.get_sat_traj(s)\n",
    "\n",
    "fig = plt.figure()\n",
    "ax = fig.add_subplot(1, 1, 1, polar=True)\n",
    "for s in sel_sats:\n",
    "    sat = starlink_constellation.get_sat_traj(s)\n",
    "    ax.plot(np.radians(sat['azimuths']), 90 - sat['elevations'])\n",
    "ax.set_yticks(range(0, 91, 10))\n",
    "ax.set_yticklabels([str(x) for x in range(90, -1, -10)])\n",
    "ax.set_theta_zero_location(\"N\")\n",
    "plt.show()"
   ]
  },
  {
   "cell_type": "markdown",
   "metadata": {},
   "source": [
    "## Model total power received during observation\n",
    "---\n",
    "\n",
    "The `model_observed_temp` takes as input the `Observation` and can also take a\n",
    "`sky_mdl` function and one or a vector of `Constellation`. "
   ]
  },
  {
   "cell_type": "code",
   "execution_count": null,
   "metadata": {},
   "outputs": [],
   "source": [
    "result = model_observed_temp(observ, sky_mdl, starlink_constellation)"
   ]
  },
  {
   "cell_type": "markdown",
   "metadata": {},
   "source": [
    "The method also have a keyword `beam_avoid` that takes an angle value. If the\n",
    "angle between the boresight of a satellite and the telescope pointing direction\n",
    "is below this angle, the satellite \"steers\" away of 45deg."
   ]
  },
  {
   "cell_type": "code",
   "execution_count": null,
   "metadata": {},
   "outputs": [],
   "source": [
    "obs_beam_avoid = Observation.from_dates(start_obs, stop_obs, traj_obj, westford)\n",
    "\n",
    "def lnk_bdgt_beam_avoid(*args, **kwargs):\n",
    "    return sat_link_budget_vectorized(*args, beam_avoid=10.0, turn_off=False, **kwargs)\n",
    "\n",
    "starlink_const_beam_avoid = Constellation.from_file(\n",
    "    file_traj_sats_path, observ, sat_transmit, lnk_bdgt_beam_avoid,\n",
    "    name_tag='sat',\n",
    "    time_tag='timestamp',\n",
    "    elevation_tag='elevations',\n",
    "    azimuth_tag='azimuths',\n",
    "    distance_tag='ranges_westford',\n",
    "    filt_funcs=(filt_name, filt_el)\n",
    ")\n",
    "\n",
    "# Use the integrated model_observed_temp function with beam_avoidance=True\n",
    "result_beam_avoid = model_observed_temp(obs_beam_avoid, sky_mdl, starlink_const_beam_avoid, beam_avoidance=True)"
   ]
  },
  {
   "cell_type": "markdown",
   "metadata": {},
   "source": [
    "Without a satellite constellation:"
   ]
  },
  {
   "cell_type": "code",
   "execution_count": null,
   "metadata": {},
   "outputs": [],
   "source": [
    "obs_src = Observation.from_dates(start_obs, stop_obs, traj_obj, westford)\n",
    "\n",
    "result_src = model_observed_temp(obs_src, sky_mdl)"
   ]
  },
  {
   "cell_type": "markdown",
   "metadata": {},
   "source": [
    "With a constellation of satellites that are omni-directional and low power:"
   ]
  },
  {
   "cell_type": "code",
   "execution_count": null,
   "metadata": {},
   "outputs": [],
   "source": [
    "# create constant gain profile\n",
    "# declination angles alpha\n",
    "alphas = np.arange(0, 181)\n",
    "# azimuth angles beta\n",
    "betas = np.arange(0, 351, 10)\n",
    "# minimum gain from sats\n",
    "sat_gain_min = sat_ant.gain_pat['gains'].min()\n",
    "# create gain dataframe\n",
    "gain_pat = pd.DataFrame({\n",
    "    'alphas': np.repeat(alphas, len(betas)),\n",
    "    'betas': np.tile(betas, len(alphas)),\n",
    "    'gains': np.full(len(alphas) * len(betas), sat_gain_min)\n",
    "})\n",
    "sat_cst_gain_ant = Antenna.from_dataframe(gain_pat, sat_eta_rad, freq_band)\n",
    "sat_cst_gain_transmit = Instrument(sat_cst_gain_ant, sat_T_phy, sat_freq, sat_bw, transmit_temp, 1, [])\n",
    "starlink_cst_gain_constellation = Constellation.from_file(\n",
    "    file_traj_sats_path, observ, sat_cst_gain_transmit, lnk_bdgt,\n",
    "    name_tag='sat',\n",
    "    time_tag='timestamp',\n",
    "    elevation_tag='elevations',\n",
    "    azimuth_tag='azimuths',\n",
    "    distance_tag='ranges_westford',\n",
    "    filt_funcs=(filt_name, filt_el)\n",
    ")\n",
    "\n",
    "obs_cst_sat_gain = Observation.from_dates(start_obs, stop_obs, traj_obj, westford)\n",
    "\n",
    "result_cst_sat_gain = model_observed_temp(obs_cst_sat_gain, sky_mdl, starlink_cst_gain_constellation)"
   ]
  },
  {
   "cell_type": "markdown",
   "metadata": {},
   "source": [
    "### Visualization\n",
    "\n",
    "Visualizing the different results as total power over time:"
   ]
  },
  {
   "cell_type": "code",
   "execution_count": null,
   "metadata": {},
   "outputs": [],
   "source": [
    "# prevent log10 of negative values\n",
    "def safe_log10(x):\n",
    "    x = np.array(x)\n",
    "    x = np.where(x > 0, x, np.nan)\n",
    "    return np.log10(x)\n",
    "\n",
    "fig, ax = plt.subplots(figsize=(18, 6))\n",
    "time_samples = observ.get_time_stamps()\n",
    "\n",
    "# Observation without beam avoidance\n",
    "plot_result = temperature_to_power(result[:, 0, 0], bw)\n",
    "ax.plot(time_samples, 10 * safe_log10(plot_result), label=\"without beam avoidance\")\n",
    "\n",
    "# Observation with beam avoidance\n",
    "plot_result = temperature_to_power(result_beam_avoid[:, 0, 0], bw)\n",
    "ax.plot(time_samples, 10 * safe_log10(plot_result), label=\"with beam avoidance\")\n",
    "\n",
    "# Observation without constellation\n",
    "plot_result = temperature_to_power(result_src[:, 0, 0], bw)\n",
    "ax.plot(time_samples, 10 * safe_log10(plot_result), label=\"no satellites\")\n",
    "\n",
    "# Observation with constellation of constant gain\n",
    "plot_result = temperature_to_power(result_cst_sat_gain[:, 0, 0], bw)\n",
    "ax.plot(time_samples, 10 * safe_log10(plot_result), label=\"constant satellite gain\")\n",
    "\n",
    "ax.legend()\n",
    "ax.set_xlabel(\"time\")\n",
    "ax.set_ylabel(\"Power [dBW]\")\n",
    "ax.grid(True)\n",
    "fig.tight_layout()\n",
    "plt.show()"
   ]
  },
  {
   "cell_type": "markdown",
   "metadata": {},
   "source": [
    "Focusing on a specific time to see where the satellites are located compare to\n",
    "the pointing direction of the telescope:"
   ]
  },
  {
   "cell_type": "code",
   "execution_count": null,
   "metadata": {},
   "outputs": [],
   "source": [
    "# zoom dates\n",
    "start_zoom = datetime.strptime(\"2025-04-01T13:14:09.000\", dateformat)\n",
    "stop_zoom = datetime.strptime(\"2025-04-01T13:14:49.000\", dateformat)\n",
    "time_samples = observ.get_time_stamps()\n",
    "time_zoom = time_samples[(time_samples >= start_zoom) & (time_samples <= stop_zoom)]\n",
    "\n",
    "fig, ax = plt.subplots(figsize=(10, 5))\n",
    "# Observation without beam avoidance\n",
    "zoom_indices = [i for i, t in enumerate(time_samples) if start_zoom <= t <= stop_zoom]\n",
    "plot_result = temperature_to_power(result[zoom_indices, 0, 0], bw)\n",
    "ax.plot(time_zoom, 10 * np.log10(plot_result), label=\"without beam avoidance\")\n",
    "# Observation with beam avoidance\n",
    "plot_result = temperature_to_power(result_beam_avoid[zoom_indices, 0, 0], bw)\n",
    "ax.plot(time_zoom, 10 * np.log10(plot_result), label=\"with beam avoidance\")\n",
    "# Observation without constellation\n",
    "plot_result = temperature_to_power(result_src[zoom_indices, 0, 0], bw)\n",
    "ax.plot(time_zoom, 10 * np.log10(plot_result), label=\"no satellites\")\n",
    "# Observation with constellation of constant gain\n",
    "plot_result = temperature_to_power(result_cst_sat_gain[zoom_indices, 0, 0], bw)\n",
    "ax.plot(time_zoom, 10 * np.log10(plot_result), label=\"constant satellite gain\")\n",
    "ax.legend()\n",
    "ax.set_xlabel(\"time\")\n",
    "ax.set_ylabel(\"Power [dBW]\")\n",
    "ax.grid(True)\n",
    "ax.legend()\n",
    "fig.tight_layout()\n",
    "plt.show()"
   ]
  },
  {
   "cell_type": "code",
   "execution_count": null,
   "metadata": {},
   "outputs": [],
   "source": [
    "time_study = datetime.strptime(\"2025-04-01T13:14:29.000\", dateformat)\n",
    "sats_at_t = starlink_constellation.get_sats_names_at_time(time_study)\n",
    "\n",
    "sel_sats = sats_at_t[:len(sats_at_t)]\n",
    "fig = plt.figure(figsize=(14, 14))\n",
    "ax = fig.add_subplot(1, 1, 1, polar=True)\n",
    "for s in sel_sats:\n",
    "    sat = starlink_constellation.get_sat_traj(s)\n",
    "    sat_pt = sat[sat['times'] == time_study]\n",
    "    ax.scatter(np.radians(sat_pt['azimuths']), 90 - sat_pt['elevations'])\n",
    "instru_pt = observ.get_traj()[observ.get_traj()['times'] == time_study]\n",
    "ax.scatter(np.radians(instru_pt['azimuths']), 90 - instru_pt['elevations'],\n",
    "           marker=\"*\", c=\"black\", s=200)\n",
    "ax.set_yticks(range(0, 91, 10))\n",
    "ax.set_yticklabels([str(x) for x in range(90, -1, -10)])\n",
    "ax.set_theta_zero_location(\"N\")\n",
    "plt.show()"
   ]
  },
  {
   "cell_type": "markdown",
   "metadata": {},
   "source": [
    "## Model Power Spectral Density during observation\n",
    "---\n",
    "\n",
    "The package is also capable of estimating the power for a wider bandwidth and\n",
    "different frequency channels (PSD)."
   ]
  },
  {
   "cell_type": "markdown",
   "metadata": {},
   "source": [
    "It is possible to increase the number of frequency channels that the simulator\n",
    "can compute to visualize the PSD:"
   ]
  },
  {
   "cell_type": "code",
   "execution_count": null,
   "metadata": {},
   "outputs": [],
   "source": [
    "# new instrument parameters\n",
    "new_freq_chan = 164\n",
    "new_bw = 30e6\n",
    "\n",
    "# new instrument that simulate the PSD\n",
    "westford_freqs = Instrument(tel_ant, T_phy, cent_freq, new_bw, T_RX, new_freq_chan, coords)\n",
    "\n",
    "# new observation\n",
    "observ_freqs = Observation.from_dates(start_obs, stop_obs, traj_obj, westford_freqs, filt_funcs=(filt_el,))"
   ]
  },
  {
   "cell_type": "markdown",
   "metadata": {},
   "source": [
    "Say we define a new transmission pattern from the satellites that depends on the frequency:"
   ]
  },
  {
   "cell_type": "code",
   "execution_count": null,
   "metadata": {},
   "outputs": [],
   "source": [
    "# new satellite transmission model that depends on frequency\n",
    "tmt_profile = np.ones(new_freq_chan)\n",
    "tmt_profile[:new_freq_chan//10] = 0.0\n",
    "tmt_profile[-new_freq_chan//10:] = 0.0\n",
    "tmt_profile[new_freq_chan//2 - new_freq_chan//10:new_freq_chan//2 + new_freq_chan//10] = 0.0\n",
    "tmt_profile[new_freq_chan//2] = 1.0\n",
    "\n",
    "freq_bins = westford_freqs.get_center_freq_chans()\n",
    "def transmit_temp_freqs(tim, freq):\n",
    "    ind_freq = np.argmin(np.abs(freq_bins - freq))\n",
    "    return tmt_profile[ind_freq] * power_to_temperature(10**(transmit_pow/10), 1.0)  # in K\n",
    "\n",
    "plt.figure()\n",
    "plt.plot(freq_bins, tmt_profile)\n",
    "plt.xlabel(\"Frequency [Hz]\")\n",
    "plt.ylabel(\"Normalized temperature\")\n",
    "plt.show()"
   ]
  },
  {
   "cell_type": "markdown",
   "metadata": {},
   "source": [
    "The rest of the code is run the same way it was before:"
   ]
  },
  {
   "cell_type": "code",
   "execution_count": null,
   "metadata": {},
   "outputs": [],
   "source": [
    "# create transmitter instrument\n",
    "sat_transmit_freqs = Instrument(sat_ant, sat_T_phy, sat_freq, sat_bw, transmit_temp_freqs, new_freq_chan, [])\n",
    "\n",
    "starlink_constellation_freqs = Constellation.from_file(\n",
    "    file_traj_sats_path, observ_freqs, sat_transmit_freqs,\n",
    "    sat_link_budget_vectorized,\n",
    "    name_tag='sat',\n",
    "    time_tag='timestamp',\n",
    "    elevation_tag='elevations',\n",
    "    azimuth_tag='azimuths',\n",
    "    distance_tag='ranges_westford',\n",
    "    filt_funcs=(filt_name, filt_el)\n",
    ")"
   ]
  },
  {
   "cell_type": "code",
   "execution_count": null,
   "metadata": {},
   "outputs": [],
   "source": [
    "result_freqs = model_observed_temp(observ_freqs, sky_mdl, starlink_constellation_freqs)"
   ]
  },
  {
   "cell_type": "code",
   "execution_count": null,
   "metadata": {},
   "outputs": [],
   "source": [
    "time_samples = observ_freqs.get_time_stamps()\n",
    "freq_bins = westford_freqs.get_center_freq_chans()\n",
    "plot_psd = temperature_to_power(result_freqs, bw/freq_chan)\n",
    "plot_pow = temperature_to_power(result[:, 0, 0], bw)"
   ]
  },
  {
   "cell_type": "code",
   "execution_count": null,
   "metadata": {},
   "outputs": [],
   "source": [
    "# plot\n",
    "fig = plt.figure(figsize=(16,8))\n",
    "gs = plt.matplotlib.gridspec.GridSpec(2, 2, height_ratios=[1,0.4],\n",
    "                                      width_ratios=[1,0.01])\n",
    "gs.update(left=0.05, right=0.95, bottom=0.08, top=0.93, wspace=0.02, hspace=0.03)\n",
    "\n",
    "ax1 = plt.subplot(gs[0,0])\n",
    "psd = ax1.imshow(10 * np.log10(plot_psd[:, 0, :].T), interpolation=\"nearest\",\n",
    "                 cmap=\"plasma\", aspect=\"auto\")\n",
    "\n",
    "ax1.set_xlim(-0.5, plot_psd.shape[0] - 0.5)\n",
    "ax1.set_ylim(-0.5, plot_psd.shape[2] - 0.5)\n",
    "ax1.set_xlabel(\"\")\n",
    "ax1.set_xticks(range(plot_psd.shape[0]))\n",
    "ax1.set_xticklabels([])\n",
    "ax1.xaxis.set_major_locator(plt.matplotlib.ticker.MaxNLocator(integer=True))\n",
    "ax1.set_yticks(range(plot_psd.shape[2]))\n",
    "ax1.set_yticklabels([f\"{f/1e9:.3f}\" for f in freq_bins])\n",
    "ax1.yaxis.set_major_locator(plt.matplotlib.ticker.MaxNLocator(integer=True))\n",
    "ax1.set_ylabel(\"Frequency [GHz]\")\n",
    "\n",
    "cbax = plt.subplot(gs[0,1])\n",
    "cb = plt.matplotlib.colorbar.Colorbar(ax=cbax, mappable=psd)\n",
    "cb.set_label(\"Spectral Power [dB/Hz]\")\n",
    "\n",
    "ax2 = plt.subplot(gs[1,0])\n",
    "ax2.plot(range(len(time_samples)), 10 * np.log10(plot_pow), label=\"without beam avoidance\")\n",
    "\n",
    "ax2.set_xlim(-0.5, plot_psd.shape[0] - 0.5)\n",
    "ax2.set_xticks(range(plot_psd.shape[0]))\n",
    "ax2.set_xticklabels(time_samples)\n",
    "ax2.xaxis.set_major_locator(plt.matplotlib.ticker.MaxNLocator(integer=True))\n",
    "ax2.set_xlabel(\"Time [UTC]\")\n",
    "ax2.set_ylabel(\"Power 11.325 GHz [dBW]\")\n",
    "ax2.grid(True)\n",
    "ax2.legend()\n",
    "\n",
    "plt.show()"
   ]
  },
  {
   "cell_type": "markdown",
   "metadata": {},
   "source": [
    "## Model total power over entire sky\n",
    "---\n",
    "\n",
    "The package also allows modeling the power received at each time samples for\n",
    "multiple positions over the sky."
   ]
  },
  {
   "cell_type": "markdown",
   "metadata": {},
   "source": [
    "It is possible to define a `Trajectory` that points at the full sky over each\n",
    "time samples:"
   ]
  },
  {
   "cell_type": "code",
   "execution_count": null,
   "metadata": {},
   "outputs": [],
   "source": [
    "# sky map\n",
    "azimuth_grid = np.arange(0, 356, 5)\n",
    "elevation_grid = np.arange(0, 91, 1)\n",
    "time_samples = observ.get_time_stamps()\n",
    "\n",
    "points_data = []\n",
    "for t in time_samples:\n",
    "    az_list = []\n",
    "    el_list = []\n",
    "    dist_list = []\n",
    "    for az in azimuth_grid:\n",
    "        for el in elevation_grid:\n",
    "            az_list.append(az)\n",
    "            el_list.append(el)\n",
    "            dist_list.append(np.inf)\n",
    "    points_data.append({\n",
    "        'times': t,\n",
    "        'azimuths': az_list,\n",
    "        'elevations': el_list,\n",
    "        'distances': dist_list\n",
    "    })\n",
    "\n",
    "points_df = pd.DataFrame(points_data)\n",
    "traj_sky = Trajectory(points_df)"
   ]
  },
  {
   "cell_type": "markdown",
   "metadata": {},
   "source": [
    "The simulation with satellites gives:"
   ]
  },
  {
   "cell_type": "code",
   "execution_count": null,
   "metadata": {},
   "outputs": [],
   "source": [
    "# --- Efficient sky map modeling for a single time_plot ---\n",
    "# Only compute for the specific time_plot\n",
    "time_plot = datetime.strptime(\"2025-04-01T13:14:29.000\", dateformat)\n",
    "\n",
    "# Define your azimuth/elevation grid\n",
    "azimuth_grid = np.arange(0, 356, 5)\n",
    "elevation_grid = np.arange(0, 91, 1)\n",
    "n_az = len(azimuth_grid)\n",
    "n_el = len(elevation_grid)\n",
    "\n",
    "# Prepare output array for the case WITH satellites\n",
    "map_grid = np.zeros((n_el, n_az))\n",
    "\n",
    "# Loop over the grid for the case WITH satellites\n",
    "for i, el in enumerate(elevation_grid):\n",
    "    for j, az in enumerate(azimuth_grid):\n",
    "        point_df = pd.DataFrame({\n",
    "            'times': [time_plot],\n",
    "            'azimuths': [az],\n",
    "            'elevations': [el],\n",
    "            'distances': [np.inf]\n",
    "        })\n",
    "        traj = Trajectory(point_df)\n",
    "        obs = Observation.from_dates(time_plot, time_plot, traj, westford)\n",
    "        result = model_observed_temp(obs, sky_mdl, starlink_constellation)\n",
    "        map_grid[i, j] = result[0, 0, 0]"
   ]
  },
  {
   "cell_type": "code",
   "execution_count": null,
   "metadata": {},
   "outputs": [],
   "source": [
    "# Plotting for the case WITH satellites\n",
    "fig = plt.figure(figsize=(16, 16))\n",
    "ax = fig.add_subplot(1, 1, 1, polar=True)\n",
    "pc = ax.pcolormesh(\n",
    "    np.radians(azimuth_grid),\n",
    "    90 - elevation_grid,\n",
    "    10 * np.log10(temperature_to_power(map_grid, bw)),\n",
    "    cmap=\"plasma\"\n",
    ")\n",
    "cbar = plt.colorbar(pc)\n",
    "cbar.set_label(\"Power [dBW]\")\n",
    "# Optionally, plot satellite and source positions as before\n",
    "sats_at_t = starlink_constellation.get_sats_names_at_time(time_plot)\n",
    "sel_sats = sats_at_t[:len(sats_at_t)]\n",
    "for s in sel_sats:\n",
    "    sat = starlink_constellation.get_sat_traj(s)\n",
    "    sat_pt = sat[sat['times'] == time_plot]\n",
    "    ax.scatter(np.radians(sat_pt['azimuths']), 90 - sat_pt['elevations'])\n",
    "src_pt = traj_src.get_traj()[traj_src.get_traj()['times'] == time_plot]\n",
    "ax.scatter(np.radians(src_pt['azimuths']), 90 - src_pt['elevations'],\n",
    "           marker=\"*\", c=\"white\", s=10)\n",
    "ax.set_yticks(range(0, 91, 10))\n",
    "ax.set_yticklabels([str(x) for x in range(90, -1, -10)])\n",
    "ax.set_theta_zero_location(\"N\")\n",
    "plt.show()"
   ]
  },
  {
   "cell_type": "markdown",
   "metadata": {},
   "source": [
    "And without accounting for satellites:"
   ]
  },
  {
   "cell_type": "code",
   "execution_count": null,
   "metadata": {},
   "outputs": [],
   "source": [
    "# Prepare output array for the case WITHOUT satellites\n",
    "map_grid_no_sat = np.zeros((n_el, n_az))\n",
    "\n",
    "# computing map_grid_no_sat\n",
    "for i, el in enumerate(elevation_grid):\n",
    "    for j, az in enumerate(azimuth_grid):\n",
    "        point_df = pd.DataFrame({\n",
    "            'times': [time_plot],\n",
    "            'azimuths': [az],\n",
    "            'elevations': [el],\n",
    "            'distances': [np.inf]\n",
    "        })\n",
    "        traj = Trajectory(point_df)\n",
    "        obs = Observation.from_dates(time_plot, time_plot, traj, westford)\n",
    "        result = model_observed_temp(obs, sky_mdl)\n",
    "        map_grid_no_sat[i, j] = result[0, 0, 0]"
   ]
  },
  {
   "cell_type": "code",
   "execution_count": null,
   "metadata": {},
   "outputs": [],
   "source": [
    "# Plotting for the case WITHOUT satellites\n",
    "fig = plt.figure(figsize=(16, 16))\n",
    "ax = fig.add_subplot(1, 1, 1, polar=True)\n",
    "pc = ax.pcolormesh(\n",
    "    np.radians(azimuth_grid),\n",
    "    90 - elevation_grid,\n",
    "    10 * np.log10(temperature_to_power(map_grid_no_sat, bw)), cmap=\"plasma\"\n",
    ")\n",
    "cbar = plt.colorbar(pc)\n",
    "cbar.set_label(\"Power [dBW]\")\n",
    "src_pt = traj_src.get_traj()[traj_src.get_traj()['times'] == time_plot]\n",
    "ax.scatter(np.radians(src_pt['azimuths']), 90 - src_pt['elevations'],\n",
    "           marker=\"*\", c=\"white\", s=10)\n",
    "ax.set_yticks(range(0, 91, 10))\n",
    "ax.set_yticklabels([str(x) for x in range(90, -1, -10)])\n",
    "ax.set_theta_zero_location(\"N\")\n",
    "plt.show()"
   ]
  }
 ],
 "metadata": {
  "kernelspec": {
   "display_name": "SpectrumX (venv)",
   "language": "python",
   "name": "spectrumx-venv"
  },
  "language_info": {
   "codemirror_mode": {
    "name": "ipython",
    "version": 3
   },
   "file_extension": ".py",
   "mimetype": "text/x-python",
   "name": "python",
   "nbconvert_exporter": "python",
   "pygments_lexer": "ipython3",
   "version": "3.13.0"
  }
 },
 "nbformat": 4,
 "nbformat_minor": 4
}
