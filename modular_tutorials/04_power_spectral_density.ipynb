{
 "cells": [
  {
   "cell_type": "markdown",
   "metadata": {},
   "source": [
    "# Tutorial 04: Power Spectral Density Analysis\n",
    "\n",
    "This tutorial demonstrates power spectral density (PSD) analysis for radio astronomy observations, showing how satellite interference affects the frequency domain characteristics of the received signal.\n",
    "\n",
    "The tutorial models a wider bandwidth observation with multiple frequency channels to visualize the spectral characteristics of both astronomical sources and satellite interference.\n",
    "\n",
    "## Learning Objectives:\n",
    "- Understand power spectral density analysis in radio astronomy\n",
    "- Learn to model frequency-dependent satellite transmission patterns\n",
    "- Explore spectral interference characteristics across frequency channels\n",
    "- Analyze frequency-domain effects of satellite interference\n",
    "- Create spectrograms and frequency slice visualizations\n",
    "- Compare transmission profiles with observed interference patterns\n",
    "\n",
    "## Prerequisites:\n",
    "- Completion of Tutorial 01: Basic Radio Astronomy Observation\n",
    "- Completion of Tutorial 02: Satellite Interference Analysis\n",
    "- Understanding of frequency domain analysis and spectral concepts\n",
    "\n",
    "## Output Files:\n",
    "- `04_satellite_transmission_profile.png`: Satellite transmission profile across frequency channels\n",
    "- `04_power_spectral_density.png`: PSD spectrogram showing interference over time and frequency\n",
    "- `04_frequency_slice.png`: Frequency slice analysis at a specific time\n"
   ]
  },
  {
   "cell_type": "markdown",
   "metadata": {},
   "source": [
    "## Import Required Libraries\n",
    "\n",
    "First, we need to import the necessary libraries and set up the Python path to access the RSC-SIM modules.\n"
   ]
  },
  {
   "cell_type": "markdown",
   "metadata": {},
   "source": [
    "## Troubleshooting: Module Import Errors\n",
    "\n",
    "**If you encounter \"ModuleNotFoundError\" when running this notebook:**\n",
    "\n",
    "The RSC-SIM package has been installed using `pip install -e .` which includes the core modules:\n",
    "- `radio_types` - Data structures for trajectories and observations\n",
    "- `obs_mdl` - Observation modeling functions  \n",
    "- `astro_mdl` - Astronomical modeling functions\n",
    "- `sat_mdl` - Satellite modeling functions\n",
    "- `antenna_pattern` - Antenna pattern calculations\n",
    "- `coord_frames` - Coordinate frame transformations\n",
    "\n",
    "**To access these modules, the notebook automatically adds the `RSC-SIM/src` directory to the Python path.** If you're still getting import errors:\n",
    "\n",
    "1. **Verify the installation**: Run `pip list` to confirm the package is installed\n",
    "   if not, go to the `RSC-SIM/` directory and run `pip install -e .`\n",
    "2. **Check the path**: Ensure you're running the notebook from the `modular_tutorials/` directory\n",
    "3. **Manual path setup**: If needed, manually add the src path:\n",
    "   ```python\n",
    "   import sys\n",
    "   import os\n",
    "\n",
    "   #Check the value of this string to make sure it matches the absolute path of the RSC-SIM/src/ directory.\n",
    "   print(os.path.join(os.getcwd(), '..', 'src')) \n",
    "   sys.path.insert(0, os.path.join(os.getcwd(), '..', 'src'))\n",
    "   \n",
    "   ```\n",
    "   As a sanity check, we can also find out the absolute path of the `RSC-SIM/src/` directory \n",
    "   to check against the value we got `os.path.join(os.getcwd(), '..', 'src')` from by running\n",
    "   ```python\n",
    "   ! realpath ../src\n",
    "   ``` \n",
    "\n",
    "The modules are located in `RSC-SIM/src/` and should be accessible once the path is correctly set."
   ]
  },
  {
   "cell_type": "code",
   "execution_count": null,
   "metadata": {},
   "outputs": [],
   "source": [
    "import sys\n",
    "import os\n",
    "import time\n",
    "import numpy as np\n",
    "from datetime import datetime, timedelta\n",
    "import matplotlib.pyplot as plt\n",
    "\n",
    "# Add the src/ path\n",
    "sys.path.insert(0, os.path.join(os.getcwd(), '..', 'src'))\n",
    "\n",
    "# Import RSC-SIM modules\n",
    "from radio_types import Observation, Constellation, Trajectory, Instrument\n",
    "from astro_mdl import power_to_temperature, temperature_to_power\n",
    "from sat_mdl import sat_link_budget_vectorized\n",
    "from obs_mdl import model_observed_temp\n",
    "\n",
    "# Import shared utilities\n",
    "# If running this notebook outside of the RSC-SIM/modular_tutorials/ directory,\n",
    "# make sure to set the path to the `RSC-SIM/modular_tutorials/shared` directory manually by running\n",
    "# sys.path.insert(0, 'path/to/RSC-SIM/modular_tutorials/shared')\n",
    "from shared.config import STANDARD_FIGURE_SIZE, CENTER_FREQUENCY\n",
    "from shared.instrument_setup import (\n",
    "    setup_psd_instrument,\n",
    "    setup_frequency_dependent_satellite\n",
    ")\n",
    "from shared.sky_models import create_sky_model\n",
    "from shared.plotting_utils import plot_psd_spectrogram, setup_plotting\n",
    "\n",
    "# Set up plotting\n",
    "setup_plotting()\n",
    "\n",
    "print(\"✓ All libraries imported successfully\")\n"
   ]
  },
  {
   "cell_type": "markdown",
   "metadata": {},
   "source": [
    "## Define Helper Functions\n",
    "\n",
    "We'll define helper functions for creating frequency-dependent transmission profiles.\n"
   ]
  },
  {
   "cell_type": "code",
   "execution_count": null,
   "metadata": {},
   "outputs": [],
   "source": [
    "def create_frequency_dependent_transmission_profile(num_channels):\n",
    "    \"\"\"\n",
    "    Create a frequency-dependent transmission profile for satellites.\n",
    "\n",
    "    This simulates realistic satellite transmission patterns with:\n",
    "    - Reduced power at band edges\n",
    "    - Notches for interference avoidance\n",
    "    - Peak transmission at center frequency\n",
    "\n",
    "    Args:\n",
    "        num_channels: Number of frequency channels\n",
    "\n",
    "    Returns:\n",
    "        array: Transmission profile (0-1 scale)\n",
    "    \"\"\"\n",
    "    tmt_profile = np.ones(num_channels)\n",
    "\n",
    "    # Reduce power at band edges (first and last 10% of channels)\n",
    "    edge_reduction = num_channels // 10\n",
    "    tmt_profile[:edge_reduction] = 0.0\n",
    "    tmt_profile[-edge_reduction:] = 0.0\n",
    "\n",
    "    # Create interference avoidance notch in center\n",
    "    notch_width = num_channels // 10\n",
    "    center_start = num_channels // 2 - notch_width // 2\n",
    "    center_end = num_channels // 2 + notch_width // 2\n",
    "    tmt_profile[center_start:center_end] = 0.0\n",
    "\n",
    "    # Ensure center frequency has full power\n",
    "    tmt_profile[num_channels // 2] = 1.0\n",
    "\n",
    "    return tmt_profile\n",
    "\n",
    "print(\"✓ Helper functions defined successfully\")\n"
   ]
  },
  {
   "cell_type": "markdown",
   "metadata": {},
   "source": [
    "## Step 1: Set Up Data Paths and Parameters\n",
    "\n",
    "We'll start by setting up the data file paths and observation parameters for our PSD analysis.\n"
   ]
  },
  {
   "cell_type": "code",
   "execution_count": null,
   "metadata": {},
   "outputs": [],
   "source": [
    "print(\"=== Power Spectral Density Analysis ===\")\n",
    "print(\"Modeling frequency-domain characteristics of radio observations\")\n",
    "print()\n",
    "\n",
    "# Get path to data files\n",
    "# Troubleshooting: Trajectory data files are stored in the `RSC-SIM/tutorial/data/` directory.\n",
    "# If you encounter an error about the file not being found, \n",
    "# check the path to the file and ensure it exists.\n",
    "script_dir = os.path.dirname(os.path.abspath('__file__'))\n",
    "data_dir = os.path.join(os.path.dirname(script_dir), \"tutorial\", \"data\")\n",
    "\n",
    "# Time window for analysis\n",
    "start_window = \"2025-02-18T15:00:00.000\"\n",
    "stop_window = \"2025-02-18T15:45:00.000\"\n",
    "\n",
    "# Replace colons with underscores for filename\n",
    "start_window_str = start_window.replace(\":\", \"_\")\n",
    "stop_window_str = stop_window.replace(\":\", \"_\")\n",
    "\n",
    "print(\"Script directory: \", script_dir)\n",
    "print(f\"Data directory: {data_dir}\")\n",
    "print(f\"Time window: {start_window} to {stop_window}\")\n",
    "print(f\"Filename format: casA_trajectory_Westford_{start_window_str}_{stop_window_str}.arrow\")\n"
   ]
  },
  {
   "cell_type": "markdown",
   "metadata": {},
   "source": [
    "## Step 2: Load Source Trajectory\n",
    "\n",
    "Now we'll load the trajectory data for our astronomical source (Cas A - Cassiopeia A).\n"
   ]
  },
  {
   "cell_type": "code",
   "execution_count": null,
   "metadata": {},
   "outputs": [],
   "source": [
    "# Load source trajectory from file\n",
    "file_traj_obj_path = os.path.join(\n",
    "    data_dir,\n",
    "    f\"casA_trajectory_Westford_{start_window_str}_{stop_window_str}.arrow\"\n",
    ")\n",
    "\n",
    "print(f\"Loading source trajectory from: {file_traj_obj_path}\")\n",
    "traj_src = Trajectory.from_file(\n",
    "    file_traj_obj_path,\n",
    "    time_tag='time_stamps',\n",
    "    elevation_tag='altitudes',\n",
    "    azimuth_tag='azimuths',\n",
    "    distance_tag='distances'\n",
    ")\n",
    "print(\"✓ Source trajectory loaded\")\n",
    "print(f\"  - Time range: {traj_src.get_traj()['times'].min()} to {traj_src.get_traj()['times'].max()}\")\n"
   ]
  },
  {
   "cell_type": "markdown",
   "metadata": {},
   "source": [
    "## Step 3: Define Observation Parameters\n",
    "\n",
    "We'll set up the observation parameters including time windows and pointing offsets.\n"
   ]
  },
  {
   "cell_type": "code",
   "execution_count": null,
   "metadata": {},
   "outputs": [],
   "source": [
    "# Define observation parameters\n",
    "dateformat = \"%Y-%m-%dT%H:%M:%S.%f\"\n",
    "start_obs = datetime.strptime(\"2025-02-18T15:30:00.000\", dateformat)\n",
    "stop_obs = datetime.strptime(\"2025-02-18T15:40:00.000\", dateformat)\n",
    "\n",
    "# Create pointing trajectory with offset\n",
    "offset_angles = (-40, 0.)  # (az,el) in degrees\n",
    "time_off_src = start_obs\n",
    "time_on_src = time_off_src + timedelta(minutes=5)\n",
    "\n",
    "# Copy and modify trajectory\n",
    "traj_obj = Trajectory(traj_src.traj.copy())\n",
    "mask = (traj_obj.traj['times'] >= time_off_src) & (traj_obj.traj['times'] <= time_on_src)\n",
    "traj_obj.traj.loc[mask, 'azimuths'] += offset_angles[0]\n",
    "traj_obj.traj.loc[mask, 'elevations'] += offset_angles[1]\n",
    "\n",
    "# Filter points below 5deg elevation\n",
    "filt_el = ('elevations', lambda e: e > 5.)\n",
    "\n",
    "print(\"✓ Observation parameters defined\")\n",
    "print(f\"  - Observation period: {start_obs} to {stop_obs}\")\n",
    "print(f\"  - OFF source: {time_off_src} to {time_on_src}\")\n",
    "print(f\"  - ON source: {time_on_src} to {stop_obs}\")\n",
    "print(f\"  - Offset angles: {offset_angles[0]}° azimuth, {offset_angles[1]}° elevation\")\n",
    "print(f\"  - Minimum elevation: 5°\")\n"
   ]
  },
  {
   "cell_type": "markdown",
   "metadata": {},
   "source": [
    "## Step 4: Create High-Resolution Instrument\n",
    "\n",
    "We'll create a high-resolution instrument specifically designed for PSD analysis with multiple frequency channels.\n"
   ]
  },
  {
   "cell_type": "code",
   "execution_count": null,
   "metadata": {},
   "outputs": [],
   "source": [
    "# Create high-resolution instrument for PSD analysis\n",
    "print(\"Creating high-resolution instrument for PSD analysis...\")\n",
    "\n",
    "# Instrument parameters for PSD analysis\n",
    "new_bw = 30e6  # 30 MHz bandwidth\n",
    "new_freq_chan = 164  # 164 frequency channels\n",
    "\n",
    "# Create telescope instrument for PSD analysis\n",
    "westford_freqs = setup_psd_instrument()\n",
    "\n",
    "# Create observation\n",
    "observ_freqs = Observation.from_dates(\n",
    "    start_obs, stop_obs, traj_obj, westford_freqs,\n",
    "    filt_funcs=(filt_el,)\n",
    ")\n",
    "\n",
    "print(\"✓ High-resolution instrument created\")\n",
    "print(f\"  - Bandwidth: {new_bw/1e6:.0f} MHz\")\n",
    "print(f\"  - Frequency channels: {new_freq_chan}\")\n",
    "print(f\"  - Channel bandwidth: {new_bw/new_freq_chan/1e3:.1f} kHz\")\n",
    "print(f\"  - Center frequency: {westford_freqs.get_center_freq()/1e9:.3f} GHz\")\n"
   ]
  },
  {
   "cell_type": "markdown",
   "metadata": {},
   "source": [
    "## Step 5: Create Sky Model\n",
    "\n",
    "We'll create the sky temperature model that includes all the components we want to observe.\n"
   ]
  },
  {
   "cell_type": "code",
   "execution_count": null,
   "metadata": {},
   "outputs": [],
   "source": [
    "# Create sky model\n",
    "sky_mdl = create_sky_model(observ_freqs)\n",
    "print(\"✓ Sky model created\")\n"
   ]
  },
  {
   "cell_type": "markdown",
   "metadata": {},
   "source": [
    "## Step 6: Create Frequency-Dependent Transmission Profile\n",
    "\n",
    "We'll create a realistic satellite transmission profile that varies across frequency channels, simulating real-world satellite behavior.\n"
   ]
  },
  {
   "cell_type": "code",
   "execution_count": null,
   "metadata": {},
   "outputs": [],
   "source": [
    "# Create satellite constellation with frequency-dependent transmission\n",
    "print(\"Setting up satellite constellation with frequency-dependent transmission...\")\n",
    "\n",
    "# Create frequency-dependent transmission profile\n",
    "tmt_profile = create_frequency_dependent_transmission_profile(new_freq_chan)\n",
    "freq_bins = westford_freqs.get_center_freq_chans()\n",
    "\n",
    "print(\"✓ Frequency-dependent transmission profile created\")\n",
    "print(f\"  - Profile features:\")\n",
    "print(f\"    * Edge reduction: First and last 10% of channels set to 0\")\n",
    "print(f\"    * Center notch: 10% of channels around center set to 0\")\n",
    "print(f\"    * Peak transmission: Center frequency at full power\")\n",
    "print(f\"  - Frequency range: {freq_bins[0]/1e9:.3f} to {freq_bins[-1]/1e9:.3f} GHz\")\n"
   ]
  },
  {
   "cell_type": "markdown",
   "metadata": {},
   "source": [
    "## Step 7: Visualize Transmission Profile\n",
    "\n",
    "Let's plot the satellite transmission profile to understand how power varies across frequency channels.\n"
   ]
  },
  {
   "cell_type": "code",
   "execution_count": null,
   "metadata": {},
   "outputs": [],
   "source": [
    "# Plot transmission profile\n",
    "fig, ax = plt.subplots(figsize=STANDARD_FIGURE_SIZE)\n",
    "ax.plot(freq_bins / 1e9, tmt_profile)\n",
    "ax.set_xlabel(\"Frequency [GHz]\")\n",
    "ax.set_ylabel(\"Normalized Transmission Power\")\n",
    "ax.set_title(\"Satellite Transmission Profile\")\n",
    "ax.grid(True)\n",
    "plt.savefig(\"04_satellite_transmission_profile.png\", dpi=300, bbox_inches='tight')\n",
    "plt.show()\n",
    "print(\"✓ Satellite transmission profile saved as '04_satellite_transmission_profile.png'\")\n"
   ]
  },
  {
   "cell_type": "markdown",
   "metadata": {},
   "source": [
    "## Step 8: Create Satellite Instrument with Frequency-Dependent Transmission\n",
    "\n",
    "We'll create a custom satellite instrument that uses our frequency-dependent transmission profile.\n"
   ]
  },
  {
   "cell_type": "code",
   "execution_count": null,
   "metadata": {},
   "outputs": [],
   "source": [
    "# Create satellite instrument with frequency-dependent transmission\n",
    "def transmit_temp_freqs(tim, freq):\n",
    "    ind_freq = np.argmin(np.abs(freq_bins - freq))\n",
    "    transmit_pow = -15 + 10 * np.log10(300)  # dBW\n",
    "    return tmt_profile[ind_freq] * power_to_temperature(10**(transmit_pow/10), 1.0)\n",
    "\n",
    "# Create custom satellite instrument with our frequency-dependent transmission\n",
    "sat_ant = setup_frequency_dependent_satellite().get_antenna()\n",
    "sat_transmit_freqs = Instrument(\n",
    "    sat_ant,\n",
    "    0.0,  # physical temperature\n",
    "    CENTER_FREQUENCY,\n",
    "    new_bw,\n",
    "    transmit_temp_freqs,\n",
    "    new_freq_chan,\n",
    "    []\n",
    ")\n",
    "\n",
    "print(\"✓ Satellite instrument with frequency-dependent transmission created\")\n",
    "print(f\"  - Transmit power: -15 dBW + 10*log10(300) = {(-15 + 10 * np.log10(300)):.1f} dBW\")\n",
    "print(f\"  - Frequency-dependent transmission: Enabled\")\n",
    "print(f\"  - Antenna pattern: ITU standard\")\n"
   ]
  },
  {
   "cell_type": "markdown",
   "metadata": {},
   "source": [
    "## Step 9: Load Satellite Constellation\n",
    "\n",
    "We'll load the satellite constellation data and apply our frequency-dependent transmission model.\n"
   ]
  },
  {
   "cell_type": "code",
   "execution_count": null,
   "metadata": {},
   "outputs": [],
   "source": [
    "# Load satellite trajectories\n",
    "file_traj_sats_path = os.path.join(\n",
    "    data_dir,\n",
    "    f\"Starlink_trajectory_Westford_{start_window_str}_{stop_window_str}.arrow\"\n",
    ")\n",
    "\n",
    "# Filter satellites\n",
    "filt_name = ('sat', lambda s: ~s.str.contains('DTC'))\n",
    "filt_el = ('elevations', lambda e: e > 20)\n",
    "\n",
    "# Create constellation\n",
    "starlink_constellation_freqs = Constellation.from_file(\n",
    "    file_traj_sats_path, observ_freqs, sat_transmit_freqs,\n",
    "    sat_link_budget_vectorized,\n",
    "    name_tag='sat',\n",
    "    time_tag='timestamp',\n",
    "    elevation_tag='elevations',\n",
    "    azimuth_tag='azimuths',\n",
    "    distance_tag='ranges_westford',\n",
    "    filt_funcs=(filt_name, filt_el)\n",
    ")\n",
    "\n",
    "print(\"✓ Satellite constellation loaded\")\n",
    "print(f\"  - Number of satellites: {len(starlink_constellation_freqs.sats['sat'].unique())}\")\n",
    "print(f\"  - Time range: {starlink_constellation_freqs.sats['times'].min()} to {starlink_constellation_freqs.sats['times'].max()}\")\n",
    "print(f\"  - Filters applied: No DTC satellites, elevation > 20°\")\n"
   ]
  },
  {
   "cell_type": "markdown",
   "metadata": {},
   "source": [
    "## Step 10: Compute Power Spectral Density\n",
    "\n",
    "Now we'll compute the power spectral density results. This may take several minutes due to the high frequency resolution.\n"
   ]
  },
  {
   "cell_type": "code",
   "execution_count": null,
   "metadata": {},
   "outputs": [],
   "source": [
    "# Compute PSD results\n",
    "print(\"Computing power spectral density...\")\n",
    "\n",
    "start_time = time.time()\n",
    "result_freqs = model_observed_temp(\n",
    "    observ_freqs, sky_mdl, starlink_constellation_freqs\n",
    ")\n",
    "end_time = time.time()\n",
    "\n",
    "execution_time = end_time - start_time\n",
    "print(f\"PSD computation completed in {execution_time:.2f} seconds\")\n",
    "\n",
    "# Get time and frequency data\n",
    "time_samples = observ_freqs.get_time_stamps()\n",
    "freq_bins = westford_freqs.get_center_freq_chans()\n",
    "\n",
    "# Convert temperature to power (use same bandwidth as original: 1 kHz)\n",
    "# The original code uses bw/freq_chan = 1e3/1 = 1000 Hz for PSD calculation\n",
    "plot_psd = temperature_to_power(result_freqs, 1e3)\n",
    "\n",
    "print(\"✓ PSD computation completed\")\n",
    "print(f\"  - Result shape: {result_freqs.shape}\")\n",
    "print(f\"  - Time samples: {len(time_samples)}\")\n",
    "print(f\"  - Frequency channels: {len(freq_bins)}\")\n",
    "print(f\"  - Computation time: {execution_time:.2f} seconds\")\n"
   ]
  },
  {
   "cell_type": "markdown",
   "metadata": {},
   "source": [
    "## Step 11: Create PSD Spectrogram\n",
    "\n",
    "We'll create a spectrogram visualization showing how power varies across both time and frequency.\n"
   ]
  },
  {
   "cell_type": "code",
   "execution_count": null,
   "metadata": {},
   "outputs": [],
   "source": [
    "# Create PSD spectrogram plot\n",
    "print(\"Creating PSD spectrogram...\")\n",
    "fig, axes, psd_imshow = plot_psd_spectrogram(\n",
    "    time_samples, freq_bins, plot_psd,\n",
    "    title=\"Power Spectral Density with Satellite Interference\",\n",
    "    colormap=\"plasma\"  # Use plasma colormap to match original plot\n",
    ")\n",
    "\n",
    "plt.savefig(\"04_power_spectral_density.png\", dpi=300, bbox_inches='tight')\n",
    "plt.show()\n",
    "print(\"✓ PSD spectrogram saved as '04_power_spectral_density.png'\")\n"
   ]
  },
  {
   "cell_type": "markdown",
   "metadata": {},
   "source": [
    "## Step 12: Frequency Slice Analysis\n",
    "\n",
    "Let's analyze the frequency characteristics at a specific time to understand the spectral structure.\n"
   ]
  },
  {
   "cell_type": "code",
   "execution_count": null,
   "metadata": {},
   "outputs": [],
   "source": [
    "# Frequency slice analysis\n",
    "print(\"Creating frequency slice analysis...\")\n",
    "\n",
    "# Select a time slice for frequency analysis\n",
    "time_idx = len(time_samples) // 2  # Middle of observation\n",
    "selected_time = time_samples.iloc[time_idx]\n",
    "\n",
    "fig, ax = plt.subplots(figsize=STANDARD_FIGURE_SIZE)\n",
    "\n",
    "# Plot power vs frequency at selected time\n",
    "freq_power = plot_psd[time_idx, 0, :]\n",
    "ax.plot(freq_bins / 1e9, 10 * np.log10(freq_power), linewidth=2)\n",
    "\n",
    "ax.set_xlabel(\"Frequency [GHz]\")\n",
    "ax.set_ylabel(\"Power [dBW]\")\n",
    "ax.set_title(f\"Frequency Slice at {selected_time.strftime('%H:%M:%S')} UTC\")\n",
    "ax.grid(True)\n",
    "\n",
    "# Add transmission profile for reference\n",
    "ax_twin = ax.twinx()\n",
    "ax_twin.plot(freq_bins / 1e9, tmt_profile, 'r--', alpha=0.5, label=\"Satellite TX Profile\")\n",
    "ax_twin.set_ylabel(\"Normalized Transmission Power\", color='r')\n",
    "ax_twin.tick_params(axis='y', labelcolor='r')\n",
    "\n",
    "plt.savefig(\"04_frequency_slice.png\", dpi=300, bbox_inches='tight')\n",
    "plt.show()\n",
    "print(\"✓ Frequency slice analysis saved as '04_frequency_slice.png'\")\n"
   ]
  },
  {
   "cell_type": "markdown",
   "metadata": {},
   "source": [
    "## Step 13: Analysis Summary\n",
    "\n",
    "Let's generate a comprehensive summary of our PSD analysis results.\n"
   ]
  },
  {
   "cell_type": "code",
   "execution_count": null,
   "metadata": {},
   "outputs": [],
   "source": [
    "# Summary statistics\n",
    "print(\"\\n=== PSD Analysis Summary ===\")\n",
    "print(f\"Observation duration: {stop_obs - start_obs}\")\n",
    "print(f\"Frequency range: {freq_bins[0]/1e9:.3f} - {freq_bins[-1]/1e9:.3f} GHz\")\n",
    "print(f\"Frequency resolution: {(freq_bins[1] - freq_bins[0])/1e6:.1f} MHz\")\n",
    "print(f\"Time resolution: {(time_samples.iloc[1] - time_samples.iloc[0]).total_seconds():.1f} seconds\")\n",
    "print(f\"Total frequency channels: {new_freq_chan}\")\n",
    "print(f\"Total time samples: {len(time_samples)}\")\n",
    "\n",
    "# Power statistics\n",
    "max_power = np.max(10 * np.log10(plot_psd))\n",
    "min_power = np.min(10 * np.log10(plot_psd))\n",
    "mean_power = np.mean(10 * np.log10(plot_psd))\n",
    "\n",
    "print(f\"Power range: {min_power:.1f} to {max_power:.1f} dBW\")\n",
    "print(f\"Mean power: {mean_power:.1f} dBW\")\n",
    "\n",
    "print(\"\\nPSD analysis completed successfully!\")\n",
    "print(\"Generated files:\")\n",
    "print(\"- 04_satellite_transmission_profile.png\")\n",
    "print(\"- 04_power_spectral_density.png\")\n",
    "print(\"- 04_frequency_slice.png\")\n",
    "print(\"\\nNote: Four-scenario comparison plot is now available in 02_satellite_interference.py\")\n"
   ]
  },
  {
   "cell_type": "markdown",
   "metadata": {},
   "source": [
    "## Summary\n",
    "\n",
    "Congratulations! You have successfully completed Tutorial 04. \n"
   ]
  }
 ],
 "metadata": {
  "kernelspec": {
   "display_name": "SpectrumX (venv)",
   "language": "python",
   "name": "spectrumx-venv"
  },
  "language_info": {
   "codemirror_mode": {
    "name": "ipython",
    "version": 3
   },
   "file_extension": ".py",
   "mimetype": "text/x-python",
   "name": "python",
   "nbconvert_exporter": "python",
   "pygments_lexer": "ipython3",
   "version": "3.13.0"
  }
 },
 "nbformat": 4,
 "nbformat_minor": 2
}
