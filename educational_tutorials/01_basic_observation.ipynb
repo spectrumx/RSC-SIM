{
 "cells": [
  {
   "cell_type": "markdown",
   "metadata": {},
   "source": [
    "# Tutorial 01: Basic Radio Astronomy Observation\n",
    "\n",
    "This tutorial introduces the fundamental concepts of radio astronomy observation\n",
    "using the RSC-SIM framework. It covers:\n",
    "\n",
    "1. Setting up a radio telescope instrument\n",
    "2. Creating observation plans and trajectories\n",
    "3. Modeling sky temperature components\n",
    "4. Running basic observations\n",
    "5. Visualizing results\n",
    "\n",
    "## Learning Objectives:\n",
    "- Understand the components of a radio telescope system\n",
    "- Learn how to set up observations with ON/OFF source tracking\n",
    "- Explore sky temperature models and their components\n",
    "- See how radio astronomy observations are simulated\n",
    "\n",
    "## Prerequisites:\n",
    "- Basic understanding of Python\n",
    "- Familiarity with radio astronomy concepts (helpful but not required)\n"
   ]
  },
  {
   "cell_type": "markdown",
   "metadata": {},
   "source": [
    "## Import Required Libraries\n",
    "\n",
    "First, import the necessary libraries and set up the Python path to access the RSC-SIM modules.\n"
   ]
  },
  {
   "cell_type": "markdown",
   "metadata": {},
   "source": [
    "## Troubleshooting: Module Import Errors\n",
    "\n",
    "**If you encounter \"ModuleNotFoundError\" when running this notebook:**\n",
    "\n",
    "The RSC-SIM package has been installed using `pip install -e .` which includes the core modules:\n",
    "- `radio_types` - Data structures for trajectories and observations\n",
    "- `obs_mdl` - Observation modeling functions  \n",
    "- `astro_mdl` - Astronomical modeling functions\n",
    "- `sat_mdl` - Satellite modeling functions\n",
    "- `antenna_pattern` - Antenna pattern calculations\n",
    "- `coord_frames` - Coordinate frame transformations\n",
    "\n",
    "**To access these modules, the notebook automatically adds the `RSC-SIM/src` directory to the Python path.** If you're still getting import errors:\n",
    "\n",
    "1. **Verify the installation**: Run `pip list` to confirm the package is installed\n",
    "   if not, go to the `RSC-SIM/` directory and run `pip install -e .`\n",
    "2. **Check the path**: Ensure you're running the notebook from the `educational_tutorials/` directory\n",
    "3. **Manual path setup**: If needed, manually add the src path:\n",
    "   ```python\n",
    "   import sys\n",
    "   import os\n",
    "\n",
    "   #Check the value of this string to make sure it matches the absolute path of the RSC-SIM/src/ directory.\n",
    "   print(os.path.join(os.getcwd(), '..', 'src')) \n",
    "   sys.path.insert(0, os.path.join(os.getcwd(), '..', 'src'))\n",
    "   \n",
    "   ```\n",
    "   As a sanity check, we can also find out the absolute path of the `RSC-SIM/src/` directory \n",
    "   to check against the value we got `os.path.join(os.getcwd(), '..', 'src')` from by running\n",
    "   ```python\n",
    "   ! realpath ../src\n",
    "   ``` \n",
    "\n",
    "The modules are located in `RSC-SIM/src/` and should be accessible once the path is correctly set.\n"
   ]
  },
  {
   "cell_type": "code",
   "execution_count": null,
   "metadata": {},
   "outputs": [],
   "source": [
    "import sys\n",
    "import os\n",
    "import time\n",
    "import numpy as np\n",
    "import matplotlib.pyplot as plt\n",
    "\n",
    "#This adds the src/ path to the Python path, which allows the notebook to find the RSC-SIM\n",
    "sys.path.insert(0, os.path.join(os.getcwd(), '..', 'src'))\n",
    "\n",
    "from radio_types import Trajectory, Observation\n",
    "from obs_mdl import model_observed_temp\n",
    "from astro_mdl import temperature_to_power\n",
    "\n",
    "# Import shared utilities.\n",
    "# If running this notebook outside of the RSC-SIM/educational_tutorials/ directory,\n",
    "# make sure to set the path to the `RSC-SIM/educational_tutorials/shared` directory manually by running\n",
    "# sys.path.insert(0, 'path/to/RSC-SIM/educational_tutorials/shared')\n",
    "from shared import (\n",
    "    setup_westford_telescope,\n",
    "    create_sky_model,\n",
    "    setup_plotting,\n",
    "    plot_antenna_pattern,\n",
    "    plot_trajectory_comparison,\n",
    "    plot_power_time_series,\n",
    "    OBSERVATION_START,\n",
    "    OBSERVATION_END,\n",
    "    OFFSET_ANGLES,\n",
    "    TIME_ON_SOURCE,\n",
    "    MIN_ELEVATION,\n",
    "    BANDWIDTH\n",
    ")\n",
    "\n",
    "print(\"✓ All libraries imported successfully\")\n"
   ]
  },
  {
   "cell_type": "markdown",
   "metadata": {},
   "source": [
    "## Step 1: Set Up the Telescope Instrument\n",
    "\n",
    "The first step is to set up the radio telescope instrument. We'll use the Westford telescope configuration, which includes:\n",
    "- Antenna pattern and gain characteristics\n",
    "- Receiver temperature and noise properties\n",
    "- Frequency and bandwidth settings\n",
    "- Physical location coordinates\n"
   ]
  },
  {
   "cell_type": "code",
   "execution_count": null,
   "metadata": {},
   "outputs": [],
   "source": [
    "# Set up plotting\n",
    "setup_plotting()\n",
    "\n",
    "print(\"Setting up the Westford telescope instrument...\")\n",
    "\n",
    "telescope = setup_westford_telescope()\n",
    "print(\"✓ Telescope instrument created\")\n",
    "print(f\"  - Center frequency: {telescope.get_center_freq()/1e9:.3f} GHz\")\n",
    "print(f\"  - Bandwidth: {telescope.get_bandwidth()/1e3:.1f} kHz\")\n",
    "print(f\"  - Physical temperature: {telescope.get_phy_temp():.1f} K\")\n"
   ]
  },
  {
   "cell_type": "markdown",
   "metadata": {},
   "source": [
    "### Visualize the Antenna Pattern\n",
    "\n",
    "Plot the antenna gain pattern to understand how the telescope responds to signals from different directions.\n"
   ]
  },
  {
   "cell_type": "code",
   "execution_count": null,
   "metadata": {},
   "outputs": [],
   "source": [
    "# Plot antenna pattern\n",
    "fig, ax = plot_antenna_pattern(telescope.get_antenna(), \"Westford Telescope Antenna Pattern\")\n",
    "plt.savefig('01_antenna_pattern.png', dpi=300, bbox_inches='tight')\n",
    "plt.show()\n",
    "print(\"✓ Antenna pattern saved as '01_antenna_pattern.png'\")\n"
   ]
  },
  {
   "cell_type": "markdown",
   "metadata": {},
   "source": [
    "## Step 2: Load Source Trajectory\n",
    "\n",
    "Load the trajectory data for our astronomical source (Cas A - Cassiopeia A). This data contains the position of the source in the sky over time as seen from the Westford telescope location.\n"
   ]
  },
  {
   "cell_type": "code",
   "execution_count": null,
   "metadata": {},
   "outputs": [],
   "source": [
    "print(\"Loading Cas A source trajectory...\")\n",
    "\n",
    "# time window of generated source trajectory\n",
    "start_window = \"2025-02-18T15:00:00.000\"\n",
    "stop_window = \"2025-02-18T15:45:00.000\"\n",
    "\n",
    "# replace colon with underscore\n",
    "start_window_str = start_window.replace(\":\", \"_\")\n",
    "stop_window_str = stop_window.replace(\":\", \"_\")\n",
    "\n",
    "# Get the directory where this script is located\n",
    "script_dir = os.getcwd()\n",
    "\n",
    "# Load source trajectory from file\n",
    "# Troubleshooting: Trajectory files are stored in the `RSC-SIM/research_tutorials/data/` directory.\n",
    "# If you encounter an error about the file not being found,\n",
    "# check the path to the file and ensure it exists.\n",
    "source_trajectory = Trajectory.from_file(\n",
    "    os.path.join(script_dir, \"..\", \"research_tutorials\", \"data\",\n",
    "                 f\"casA_trajectory_Westford_{start_window_str}_{stop_window_str}.arrow\"),\n",
    "    time_tag='time_stamps',\n",
    "    elevation_tag='altitudes',\n",
    "    azimuth_tag='azimuths',\n",
    "    distance_tag='distances'\n",
    ")\n",
    "print(\"✓ Source trajectory loaded\")\n",
    "print(f\"  - Time range: {source_trajectory.get_traj()['times'].min()} to \"\n",
    "      f\"{source_trajectory.get_traj()['times'].max()}\")\n"
   ]
  },
  {
   "cell_type": "markdown",
   "metadata": {},
   "source": [
    "## Step 3: Create Observation Plan\n",
    "\n",
    "Create an observation plan that includes both ON-source and OFF-source observations:\n",
    "\n",
    "- **OFF-source observation**: Telescope points away from the target to measure background\n",
    "- **ON-source observation**: Telescope points at the target to measure source + background\n",
    "- **Signal**: The difference between ON and OFF gives us the source signal\n"
   ]
  },
  {
   "cell_type": "code",
   "execution_count": null,
   "metadata": {},
   "outputs": [],
   "source": [
    "print(\"Creating observation plan with ON/OFF source tracking...\")\n",
    "\n",
    "# Create pointing trajectory with offset\n",
    "pointing_trajectory = Trajectory(source_trajectory.traj.copy())\n",
    "\n",
    "# Apply offset for OFF source observation\n",
    "mask = (pointing_trajectory.traj['times'] >= OBSERVATION_START) & \\\n",
    "       (pointing_trajectory.traj['times'] <= TIME_ON_SOURCE)\n",
    "pointing_trajectory.traj.loc[mask, 'azimuths'] += OFFSET_ANGLES[0]\n",
    "pointing_trajectory.traj.loc[mask, 'elevations'] += OFFSET_ANGLES[1]\n",
    "\n",
    "# Filter low elevation points\n",
    "elevation_filter = ('elevations', lambda e: e > MIN_ELEVATION)\n",
    "\n",
    "# Create observation\n",
    "observation = Observation.from_dates(\n",
    "    OBSERVATION_START,\n",
    "    OBSERVATION_END,\n",
    "    pointing_trajectory,\n",
    "    telescope,\n",
    "    filt_funcs=(elevation_filter,)\n",
    ")\n",
    "print(\"✓ Observation created\")\n",
    "print(f\"  - Duration: {OBSERVATION_END - OBSERVATION_START}\")\n",
    "print(f\"  - OFF source: {OBSERVATION_START} to {TIME_ON_SOURCE}\")\n",
    "print(f\"  - ON source: {TIME_ON_SOURCE} to {OBSERVATION_END}\")\n"
   ]
  },
  {
   "cell_type": "markdown",
   "metadata": {},
   "source": [
    "### Visualize the Observation Trajectory\n",
    "\n",
    "Compare the source trajectory with our telescope pointing to see the ON/OFF observation pattern.\n"
   ]
  },
  {
   "cell_type": "code",
   "execution_count": null,
   "metadata": {},
   "outputs": [],
   "source": [
    "# Plot trajectory comparison\n",
    "fig, ax = plot_trajectory_comparison(\n",
    "    source_trajectory.get_traj(),\n",
    "    observation.get_traj(),\n",
    "    \"Cas A Source vs Telescope Pointing\"\n",
    ")\n",
    "plt.savefig('01_trajectory_comparison.png', dpi=300, bbox_inches='tight')\n",
    "plt.show()\n",
    "print(\"✓ Trajectory comparison saved as '01_trajectory_comparison.png'\")\n"
   ]
  },
  {
   "cell_type": "markdown",
   "metadata": {},
   "source": [
    "## Step 4: Create Sky Model\n",
    "\n",
    "The sky model includes all the temperature components that contribute to the total signal received by the telescope:\n",
    "\n",
    "- **Astronomical source (Cas A)**: The target we want to observe\n",
    "- **Atmospheric emission**: Thermal radiation from Earth's atmosphere\n",
    "- **Cosmic Microwave Background**: 2.73 K background radiation\n",
    "- **Galactic background**: Emission from our galaxy\n",
    "- **Radio Frequency Interference**: Human-made radio signals\n"
   ]
  },
  {
   "cell_type": "code",
   "execution_count": null,
   "metadata": {},
   "outputs": [],
   "source": [
    "print(\"Creating sky temperature model...\")\n",
    "\n",
    "sky_model = create_sky_model(observation)\n",
    "print(\"✓ Sky model created with components:\")\n",
    "print(\"  - Astronomical source (Cas A)\")\n",
    "print(\"  - Atmospheric emission\")\n",
    "print(\"  - Cosmic Microwave Background (2.73 K)\")\n",
    "print(\"  - Galactic background\")\n",
    "print(\"  - Radio Frequency Interference\")\n"
   ]
  },
  {
   "cell_type": "markdown",
   "metadata": {},
   "source": [
    "## Step 5: Run Observation Simulation\n",
    "\n",
    "Run the complete observation simulation, which calculates the total temperature received by the telescope at each time step.\n"
   ]
  },
  {
   "cell_type": "code",
   "execution_count": null,
   "metadata": {},
   "outputs": [],
   "source": [
    "print(\"Running observation simulation...\")\n",
    "\n",
    "start_time = time.time()\n",
    "result = model_observed_temp(observation, sky_model)\n",
    "end_time = time.time()\n",
    "\n",
    "print(f\"✓ Simulation completed in {end_time - start_time:.2f} seconds\")\n",
    "print(f\"  - Result shape: {result.shape}\")\n",
    "print(f\"  - Time samples: {result.shape[0]}\")\n",
    "print(f\"  - Pointings: {result.shape[1]}\")\n",
    "print(f\"  - Frequency channels: {result.shape[2]}\")\n"
   ]
  },
  {
   "cell_type": "markdown",
   "metadata": {},
   "source": [
    "## Step 6: Analyze and Visualize Results\n",
    "\n",
    "Analyze the results by converting temperature to power and creating visualizations to understand what we observed.\n"
   ]
  },
  {
   "cell_type": "code",
   "execution_count": null,
   "metadata": {},
   "outputs": [],
   "source": [
    "print(\"Analyzing and visualizing results...\")\n",
    "\n",
    "# Convert temperature to power\n",
    "time_samples = observation.get_time_stamps()\n",
    "power_data = temperature_to_power(result[:, 0, 0], BANDWIDTH)\n",
    "\n",
    "# Create time series plot\n",
    "fig, ax = plot_power_time_series(\n",
    "    time_samples,\n",
    "    [power_data],\n",
    "    [\"Total Power\"],\n",
    "    \"Radio Telescope Power vs Time\",\n",
    "    \"Power [dBW]\"\n",
    ")\n",
    "\n",
    "# Add vertical line for ON/OFF transition\n",
    "ax.axvline(x=TIME_ON_SOURCE, color='red', linestyle='--', alpha=0.7, label='ON/OFF transition')\n",
    "ax.legend()\n",
    "plt.savefig('01_power_time_series.png', dpi=300, bbox_inches='tight')\n",
    "plt.show()\n",
    "print(\"✓ Power time series saved as '01_power_time_series.png'\")\n"
   ]
  },
  {
   "cell_type": "markdown",
   "metadata": {},
   "source": [
    "## Step 7: Understanding the Results\n",
    "\n",
    "Calculate some key statistics to understand the quality of our observation, including the signal-to-noise ratio.\n"
   ]
  },
  {
   "cell_type": "code",
   "execution_count": null,
   "metadata": {},
   "outputs": [],
   "source": [
    "print(\"Understanding the results...\")\n",
    "\n",
    "# Calculate statistics\n",
    "off_source_mask = time_samples <= TIME_ON_SOURCE\n",
    "on_source_mask = time_samples > TIME_ON_SOURCE\n",
    "\n",
    "off_power = power_data[off_source_mask]\n",
    "on_power = power_data[on_source_mask]\n",
    "\n",
    "print(\"OFF source statistics:\")\n",
    "print(f\"  - Mean power: {np.mean(off_power):.2e} W\")\n",
    "print(f\"  - Std power: {np.std(off_power):.2e} W\")\n",
    "\n",
    "print(\"ON source statistics:\")\n",
    "print(f\"  - Mean power: {np.mean(on_power):.2e} W\")\n",
    "print(f\"  - Std power: {np.std(on_power):.2e} W\")\n",
    "\n",
    "# Calculate signal-to-noise ratio\n",
    "signal = np.mean(on_power) - np.mean(off_power)\n",
    "noise = np.std(off_power)\n",
    "snr = signal / noise if noise > 0 else 0\n",
    "\n",
    "print(f\"Signal-to-Noise Ratio: {snr:.2f}\")\n"
   ]
  },
  {
   "cell_type": "markdown",
   "metadata": {},
   "source": [
    "## Tutorial Summary\n",
    "\n",
    "This tutorial successfully demonstrated the complete workflow of radio astronomy observations:\n",
    "\n",
    "**Accomplishments:**\n",
    "- ✓ Successfully set up a radio telescope instrument\n",
    "- ✓ Created an observation plan with ON/OFF source tracking\n",
    "- ✓ Modeled sky temperature components\n",
    "- ✓ Simulated a complete radio astronomy observation\n",
    "- ✓ Analyzed the results and calculated signal-to-noise ratio\n",
    "\n",
    "**Key Concepts Learned:**\n",
    "- Radio telescopes measure power from astronomical sources\n",
    "- ON/OFF observations help separate source signal from background\n",
    "- Sky temperature models include multiple components\n",
    "- Signal-to-noise ratio quantifies observation quality\n",
    "\n",
    "**Next Tutorial:** Satellite Interference Analysis\n",
    "\n"
   ]
  }
 ],
 "metadata": {
  "kernelspec": {
   "display_name": "radiomdlpy_env",
   "language": "python",
   "name": "python3"
  },
  "language_info": {
   "codemirror_mode": {
    "name": "ipython",
    "version": 3
   },
   "file_extension": ".py",
   "mimetype": "text/x-python",
   "name": "python",
   "nbconvert_exporter": "python",
   "pygments_lexer": "ipython3",
   "version": "3.10.11"
  }
 },
 "nbformat": 4,
 "nbformat_minor": 2
}
